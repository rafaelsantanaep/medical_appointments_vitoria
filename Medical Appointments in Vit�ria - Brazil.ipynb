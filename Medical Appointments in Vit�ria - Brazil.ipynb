{
 "cells": [
  {
   "cell_type": "markdown",
   "metadata": {},
   "source": [
    "<img src='https://arrowprestigelimo.com/wp-content/uploads/2011/07/medical-appointment-arrow-prestige-limousine.jpg'/>"
   ]
  },
  {
   "cell_type": "markdown",
   "metadata": {},
   "source": [
    "<center><h1>Medical Appointments in Vitória - Brazil</h1></center>"
   ]
  },
  {
   "cell_type": "code",
   "execution_count": 4,
   "metadata": {},
   "outputs": [
    {
     "data": {
      "text/html": [
       "<script>\n",
       "code_show=true; \n",
       "function code_toggle() {\n",
       " if (code_show){\n",
       " $('div.input').hide();\n",
       " } else {\n",
       " $('div.input').show();\n",
       " }\n",
       " code_show = !code_show\n",
       "} \n",
       "$( document ).ready(code_toggle);\n",
       "</script>\n",
       "The raw code for this IPython notebook is by default hidden for easier reading.\n",
       "To toggle on/off the raw code, click <a href=\"javascript:code_toggle()\">here</a>."
      ],
      "text/plain": [
       "<IPython.core.display.HTML object>"
      ]
     },
     "execution_count": 4,
     "metadata": {},
     "output_type": "execute_result"
    }
   ],
   "source": [
    "from IPython.display import HTML\n",
    "\n",
    "HTML('''<script>\n",
    "code_show=true; \n",
    "function code_toggle() {\n",
    " if (code_show){\n",
    " $('div.input').hide();\n",
    " } else {\n",
    " $('div.input').show();\n",
    " }\n",
    " code_show = !code_show\n",
    "} \n",
    "$( document ).ready(code_toggle);\n",
    "</script>\n",
    "The raw code for this IPython notebook is by default hidden for easier reading.\n",
    "To toggle on/off the raw code, click <a href=\"javascript:code_toggle()\">here</a>.''')"
   ]
  },
  {
   "cell_type": "markdown",
   "metadata": {},
   "source": [
    "\n",
    "\n",
    "## Table of Contents\n",
    "<ul>\n",
    "<li><a href=\"#intro\">Introduction</a></li>\n",
    "<li><a href=\"#about_data\">About the Data</a></li>\n",
    "<li><a href=\"#research_question\">Research Question</a></li>\n",
    "<li><a href=\"#overview\">Overview of the data</a></li>\n",
    "<li><a href=\"#wrangling\">Data Wrangling</a></li>\n",
    "<li><a href=\"#date_versus_attended\">Attended versus Not Attended by day</a></li> \n",
    "<li><a href=\"#neighborhood_vs_attended\">Attended versus Not Attended by Neighborhood</a></li> \n",
    "<li><a href=\"#waiting_time\">Waiting Time versus No-show</a></li> \n",
    "<li><a href=\"#age\">Age versus No-show</a></li> \n",
    "<li><a href=\"#sms_received\">SMS Received versus No-Show</a></li>\n",
    "<li><a href=\"#bolsa_familia\">Government Allowance versus No-Show</a></li>\n",
    "<li><a href=\"#conclusions\">Conclusions</a></li>\n",
    "<li><a href=\"#resources_used\">Resources used</a></li> \n",
    "</ul>"
   ]
  },
  {
   "cell_type": "markdown",
   "metadata": {},
   "source": [
    "<a id='intro'></a>\n",
    "## Introduction\n",
    "\n",
    "This project will use and dataset about medical appointments in the city of Vitória - Brazil.\n",
    "\n",
    "The objective of this work is to understand why 20% of the appointments in the dataset were missed by the patients. In order to do that, I'll conduct an Exploratory Data Analysis in a dataset from Kaggle."
   ]
  },
  {
   "cell_type": "markdown",
   "metadata": {},
   "source": [
    "### Importing data and packages"
   ]
  },
  {
   "cell_type": "code",
   "execution_count": 182,
   "metadata": {},
   "outputs": [],
   "source": [
    "import pandas as pd\n",
    "import numpy as np\n",
    "import matplotlib.pyplot as plt\n",
    "import os\n",
    "%matplotlib inline\n",
    "import seaborn as sns\n",
    "plt.style.use('seaborn')\n",
    "import math\n",
    "from scipy.stats import norm\n",
    "from scipy.stats import chisquare\n",
    "from scipy.stats import pearsonr\n"
   ]
  },
  {
   "cell_type": "code",
   "execution_count": 183,
   "metadata": {},
   "outputs": [
    {
     "data": {
      "text/html": [
       "<div>\n",
       "<style scoped>\n",
       "    .dataframe tbody tr th:only-of-type {\n",
       "        vertical-align: middle;\n",
       "    }\n",
       "\n",
       "    .dataframe tbody tr th {\n",
       "        vertical-align: top;\n",
       "    }\n",
       "\n",
       "    .dataframe thead th {\n",
       "        text-align: right;\n",
       "    }\n",
       "</style>\n",
       "<table border=\"1\" class=\"dataframe\">\n",
       "  <thead>\n",
       "    <tr style=\"text-align: right;\">\n",
       "      <th></th>\n",
       "      <th>appointmentid</th>\n",
       "      <th>gender</th>\n",
       "      <th>scheduledday</th>\n",
       "      <th>appointmentday</th>\n",
       "      <th>age</th>\n",
       "      <th>neighbourhood</th>\n",
       "      <th>scholarship</th>\n",
       "      <th>hipertension</th>\n",
       "      <th>diabetes</th>\n",
       "      <th>alcoholism</th>\n",
       "      <th>handcap</th>\n",
       "      <th>sms_received</th>\n",
       "      <th>no-show</th>\n",
       "    </tr>\n",
       "    <tr>\n",
       "      <th>PatientId</th>\n",
       "      <th></th>\n",
       "      <th></th>\n",
       "      <th></th>\n",
       "      <th></th>\n",
       "      <th></th>\n",
       "      <th></th>\n",
       "      <th></th>\n",
       "      <th></th>\n",
       "      <th></th>\n",
       "      <th></th>\n",
       "      <th></th>\n",
       "      <th></th>\n",
       "      <th></th>\n",
       "    </tr>\n",
       "  </thead>\n",
       "  <tbody>\n",
       "    <tr>\n",
       "      <th>2.987250e+13</th>\n",
       "      <td>5642903</td>\n",
       "      <td>F</td>\n",
       "      <td>2016-04-29T18:38:08Z</td>\n",
       "      <td>2016-04-29T00:00:00Z</td>\n",
       "      <td>62</td>\n",
       "      <td>JARDIM DA PENHA</td>\n",
       "      <td>0</td>\n",
       "      <td>1</td>\n",
       "      <td>0</td>\n",
       "      <td>0</td>\n",
       "      <td>0</td>\n",
       "      <td>0</td>\n",
       "      <td>No</td>\n",
       "    </tr>\n",
       "    <tr>\n",
       "      <th>5.589978e+14</th>\n",
       "      <td>5642503</td>\n",
       "      <td>M</td>\n",
       "      <td>2016-04-29T16:08:27Z</td>\n",
       "      <td>2016-04-29T00:00:00Z</td>\n",
       "      <td>56</td>\n",
       "      <td>JARDIM DA PENHA</td>\n",
       "      <td>0</td>\n",
       "      <td>0</td>\n",
       "      <td>0</td>\n",
       "      <td>0</td>\n",
       "      <td>0</td>\n",
       "      <td>0</td>\n",
       "      <td>No</td>\n",
       "    </tr>\n",
       "    <tr>\n",
       "      <th>4.262962e+12</th>\n",
       "      <td>5642549</td>\n",
       "      <td>F</td>\n",
       "      <td>2016-04-29T16:19:04Z</td>\n",
       "      <td>2016-04-29T00:00:00Z</td>\n",
       "      <td>62</td>\n",
       "      <td>MATA DA PRAIA</td>\n",
       "      <td>0</td>\n",
       "      <td>0</td>\n",
       "      <td>0</td>\n",
       "      <td>0</td>\n",
       "      <td>0</td>\n",
       "      <td>0</td>\n",
       "      <td>No</td>\n",
       "    </tr>\n",
       "    <tr>\n",
       "      <th>8.679512e+11</th>\n",
       "      <td>5642828</td>\n",
       "      <td>F</td>\n",
       "      <td>2016-04-29T17:29:31Z</td>\n",
       "      <td>2016-04-29T00:00:00Z</td>\n",
       "      <td>8</td>\n",
       "      <td>PONTAL DE CAMBURI</td>\n",
       "      <td>0</td>\n",
       "      <td>0</td>\n",
       "      <td>0</td>\n",
       "      <td>0</td>\n",
       "      <td>0</td>\n",
       "      <td>0</td>\n",
       "      <td>No</td>\n",
       "    </tr>\n",
       "    <tr>\n",
       "      <th>8.841186e+12</th>\n",
       "      <td>5642494</td>\n",
       "      <td>F</td>\n",
       "      <td>2016-04-29T16:07:23Z</td>\n",
       "      <td>2016-04-29T00:00:00Z</td>\n",
       "      <td>56</td>\n",
       "      <td>JARDIM DA PENHA</td>\n",
       "      <td>0</td>\n",
       "      <td>1</td>\n",
       "      <td>1</td>\n",
       "      <td>0</td>\n",
       "      <td>0</td>\n",
       "      <td>0</td>\n",
       "      <td>No</td>\n",
       "    </tr>\n",
       "  </tbody>\n",
       "</table>\n",
       "</div>"
      ],
      "text/plain": [
       "              appointmentid gender          scheduledday  \\\n",
       "PatientId                                                  \n",
       "2.987250e+13        5642903      F  2016-04-29T18:38:08Z   \n",
       "5.589978e+14        5642503      M  2016-04-29T16:08:27Z   \n",
       "4.262962e+12        5642549      F  2016-04-29T16:19:04Z   \n",
       "8.679512e+11        5642828      F  2016-04-29T17:29:31Z   \n",
       "8.841186e+12        5642494      F  2016-04-29T16:07:23Z   \n",
       "\n",
       "                    appointmentday  age      neighbourhood  scholarship  \\\n",
       "PatientId                                                                 \n",
       "2.987250e+13  2016-04-29T00:00:00Z   62    JARDIM DA PENHA            0   \n",
       "5.589978e+14  2016-04-29T00:00:00Z   56    JARDIM DA PENHA            0   \n",
       "4.262962e+12  2016-04-29T00:00:00Z   62      MATA DA PRAIA            0   \n",
       "8.679512e+11  2016-04-29T00:00:00Z    8  PONTAL DE CAMBURI            0   \n",
       "8.841186e+12  2016-04-29T00:00:00Z   56    JARDIM DA PENHA            0   \n",
       "\n",
       "              hipertension  diabetes  alcoholism  handcap  sms_received  \\\n",
       "PatientId                                                                 \n",
       "2.987250e+13             1         0           0        0             0   \n",
       "5.589978e+14             0         0           0        0             0   \n",
       "4.262962e+12             0         0           0        0             0   \n",
       "8.679512e+11             0         0           0        0             0   \n",
       "8.841186e+12             1         1           0        0             0   \n",
       "\n",
       "             no-show  \n",
       "PatientId             \n",
       "2.987250e+13      No  \n",
       "5.589978e+14      No  \n",
       "4.262962e+12      No  \n",
       "8.679512e+11      No  \n",
       "8.841186e+12      No  "
      ]
     },
     "execution_count": 183,
     "metadata": {},
     "output_type": "execute_result"
    }
   ],
   "source": [
    "#loading the data\n",
    "df = pd.read_csv('noshowappointments-kagglev2-may-2016.csv', parse_dates=True, index_col='PatientId')\n",
    "\n",
    "#changing the column names and separating words by a underscore\n",
    "df.columns = df.columns.str.lower().str.replace(' ', '_')\n",
    "\n",
    "df.head()"
   ]
  },
  {
   "cell_type": "markdown",
   "metadata": {},
   "source": [
    "<a id='about_data'></a>\n",
    "### About the data\n",
    "\n",
    "- `appointmentid`: The number that identificate the appointment\n",
    "- `gender`: Patient's gender\n",
    "- `scheduledday`: Day when the appointment was scheduled\n",
    "- `appointmendday`: Date of the appointment\n",
    "- `age`: Patient's age\n",
    "- `neighbourhood`: Hospital's neighborhood\n",
    "- `scholarship`: This variable point out if the patient receives 'Bolsa Família'.\n",
    "- `hipertension`: This variable states if the patient has hypertension or not\n",
    "- `diabetes`: This variable states if the patient has diabetes or not\n",
    "- `alcoholism`: This variable states if the patient is an alcoholic or not\n",
    "- `handcap`: This variable shows if the patient has some kind of disadvantage\n",
    "- `sms_received`: This variable shows if the patient had received an sms to remember of the appointment\n",
    "- `no-show`: If the patient hasn't shown up for the appointment. Note that here a \"No\" means that patient attended the appointment.\n"
   ]
  },
  {
   "cell_type": "markdown",
   "metadata": {},
   "source": [
    "<a id='research_question'></a> \n",
    "## Research Question: Which factors influence the most in  the number of no-shows?\n",
    "\n",
    "The main objective of this work is to explore the data about medical appointments and identify which variables are more correlated with the number of patients that don't show-up for their appointments.\n",
    "\n",
    "Some questions that I want to investigate using the data that we have:\n",
    "1. Is the number of patients who attended their appointments and those who don't attend their appointments steady in the data that we have?\n",
    "2. In our data, we just have data about the neighborhoods where the hospitals are located, the ideal was to investigate in a hospital level. But, one interesting thing to answer is: is there a correlation between the number of patients who attend their appointments and those who don't? \n",
    "3. The waiting time influence in the probability of the patient attending the appointment?\n",
    "4. The age of the patient influence in the probability of the patient attending the appointment?\n",
    "5. Receiving a reminder is helpful for the hospitals to decrease the number of patient that don't show-up?\n",
    "6. Is there a significant difference in the proportions of patients who show-up for the appointments when you compare the people that receive 'Bolsa Família' and those who don't?\n",
    "\n",
    "#### This project will consist of four steps:\n",
    "1. Overview of the dataset.\n",
    "2. Data Wrangling.\n",
    "3. Exploratory Data Analysis.\n",
    "4. Conclusion"
   ]
  },
  {
   "cell_type": "markdown",
   "metadata": {},
   "source": [
    "<a id='overview'></a>\n",
    "### Overview of the dataset"
   ]
  },
  {
   "cell_type": "code",
   "execution_count": 184,
   "metadata": {},
   "outputs": [
    {
     "data": {
      "text/plain": [
       "appointmentid      int64\n",
       "gender            object\n",
       "scheduledday      object\n",
       "appointmentday    object\n",
       "age                int64\n",
       "neighbourhood     object\n",
       "scholarship        int64\n",
       "hipertension       int64\n",
       "diabetes           int64\n",
       "alcoholism         int64\n",
       "handcap            int64\n",
       "sms_received       int64\n",
       "no-show           object\n",
       "dtype: object"
      ]
     },
     "execution_count": 184,
     "metadata": {},
     "output_type": "execute_result"
    }
   ],
   "source": [
    "df.dtypes"
   ]
  },
  {
   "cell_type": "markdown",
   "metadata": {},
   "source": [
    "Some considerations about the variable types:\n",
    "- I want to convert the variables `scholarship`, `hipertension`,`diabetes`,`alcoholism`, `handcap` and `sms_received` to an object because in my opinion they are more informative to the audience.\n",
    "- The pd.read_csv() function wasn't able to parse the dates, probably, there are some issues in our date variables.\n",
    "- The appointmentid variable is an integer, but I'll not perform operations with it, so I will convert it to an object."
   ]
  },
  {
   "cell_type": "code",
   "execution_count": 185,
   "metadata": {},
   "outputs": [
    {
     "data": {
      "text/plain": [
       "appointmentid     110527\n",
       "gender                 2\n",
       "scheduledday      103549\n",
       "appointmentday        27\n",
       "age                  104\n",
       "neighbourhood         81\n",
       "scholarship            2\n",
       "hipertension           2\n",
       "diabetes               2\n",
       "alcoholism             2\n",
       "handcap                5\n",
       "sms_received           2\n",
       "no-show                2\n",
       "dtype: int64"
      ]
     },
     "execution_count": 185,
     "metadata": {},
     "output_type": "execute_result"
    }
   ],
   "source": [
    "df.nunique()"
   ]
  },
  {
   "cell_type": "markdown",
   "metadata": {},
   "source": [
    "With this column, it's possible to see some inconsistencies within our data:\n",
    "- There are much more diversity in the variable `scheduledday` than in the `appointmentday`. Probably, is something related to the format of the datetime string.\n",
    "- Some values in the scheduled day may be missing values, duplicates or values that are equal.\n",
    "- The variable `handcap` appeared to be a variable with just zeros and ones, but now it's possible to see that there  are other values in it. Probably, it's better to manipulate it to transform it into a ordinal categorical variable.\n",
    "- There are hospitals in 81 neighborhoods."
   ]
  },
  {
   "cell_type": "code",
   "execution_count": 186,
   "metadata": {},
   "outputs": [
    {
     "name": "stdout",
     "output_type": "stream",
     "text": [
      "<class 'pandas.core.frame.DataFrame'>\n",
      "Float64Index: 110527 entries, 29872499824296.0 to 377511518121127.0\n",
      "Data columns (total 13 columns):\n",
      "appointmentid     110527 non-null int64\n",
      "gender            110527 non-null object\n",
      "scheduledday      110527 non-null object\n",
      "appointmentday    110527 non-null object\n",
      "age               110527 non-null int64\n",
      "neighbourhood     110527 non-null object\n",
      "scholarship       110527 non-null int64\n",
      "hipertension      110527 non-null int64\n",
      "diabetes          110527 non-null int64\n",
      "alcoholism        110527 non-null int64\n",
      "handcap           110527 non-null int64\n",
      "sms_received      110527 non-null int64\n",
      "no-show           110527 non-null object\n",
      "dtypes: int64(8), object(5)\n",
      "memory usage: 11.8+ MB\n"
     ]
    }
   ],
   "source": [
    "df.info()"
   ]
  },
  {
   "cell_type": "markdown",
   "metadata": {},
   "source": [
    "Apparently, there aren't missing values in our dataframe"
   ]
  },
  {
   "cell_type": "code",
   "execution_count": 187,
   "metadata": {},
   "outputs": [
    {
     "data": {
      "text/plain": [
       "0"
      ]
     },
     "execution_count": 187,
     "metadata": {},
     "output_type": "execute_result"
    }
   ],
   "source": [
    "sum(df.duplicated())"
   ]
  },
  {
   "cell_type": "markdown",
   "metadata": {},
   "source": [
    "There aren't entire rows duplicated within our dataset."
   ]
  },
  {
   "cell_type": "markdown",
   "metadata": {},
   "source": [
    "<a id='wrangling'></a>\n",
    "### Data Wrangling\n",
    "\n",
    "0. Convert to object: `scholarship`,`hipertension`,`diabetes`,`alcoholism`,`handcap`,`sms_received`. I will transform the ones in a 'Yes' and the zeros in  a 'No'.\n",
    "\n",
    "1. Convert to a datetime: `scheduledday` and `appointmentday`\n",
    "\n",
    "2. Create a waiting_time column based in the difference betweem the `appointmentday` and the `scheduledday` columns.\n",
    "\n",
    "3. Changing the names of same columns: \n",
    "    - I want to change the column name to family_allowance because 'Bolsa Família' is a social program that concedes money for low-income families and they can spend this money in a way that best suits the family needs.\n",
    "    - The variable `no-show` isn't very intuitive because if a patient is listed as \"No\", he attended the appointment. So I will invert this logic by replacing 'No' by 'Yes' and vice-versa. I'll also change the column name to `attended_appointment`\n",
    "    - make the variable names: `hipertension`,`alcoholism`,`handcap`,`diabetes` and`scheduledday` more informative.\n",
    "4. Identify the meaning of each value in the `handcap` variable\n"
   ]
  },
  {
   "cell_type": "markdown",
   "metadata": {},
   "source": [
    "#### Problem 0: Transforming integers in Objects"
   ]
  },
  {
   "cell_type": "code",
   "execution_count": 188,
   "metadata": {},
   "outputs": [],
   "source": [
    "list_variables = ['scholarship','hipertension','diabetes','alcoholism','sms_received']\n",
    "\n",
    "for i in list_variables:\n",
    "    df[i] = np.where(df[i] == 1, 'Yes', 'No')"
   ]
  },
  {
   "cell_type": "markdown",
   "metadata": {},
   "source": [
    "#### Problem 1: Converting to datetime"
   ]
  },
  {
   "cell_type": "code",
   "execution_count": 189,
   "metadata": {},
   "outputs": [
    {
     "name": "stdout",
     "output_type": "stream",
     "text": [
      "Head:\n",
      "                      scheduledday        appointmentday\n",
      "PatientId                                               \n",
      "2.987250e+13  2016-04-29T18:38:08Z  2016-04-29T00:00:00Z\n",
      "5.589978e+14  2016-04-29T16:08:27Z  2016-04-29T00:00:00Z\n",
      "4.262962e+12  2016-04-29T16:19:04Z  2016-04-29T00:00:00Z\n",
      "8.679512e+11  2016-04-29T17:29:31Z  2016-04-29T00:00:00Z\n",
      "8.841186e+12  2016-04-29T16:07:23Z  2016-04-29T00:00:00Z\n",
      "Tail:\n",
      "                      scheduledday        appointmentday\n",
      "PatientId                                               \n",
      "2.572134e+12  2016-05-03T09:15:35Z  2016-06-07T00:00:00Z\n",
      "3.596266e+12  2016-05-03T07:27:33Z  2016-06-07T00:00:00Z\n",
      "1.557663e+13  2016-04-27T16:03:52Z  2016-06-07T00:00:00Z\n",
      "9.213493e+13  2016-04-27T15:09:23Z  2016-06-07T00:00:00Z\n",
      "3.775115e+14  2016-04-27T13:30:56Z  2016-06-07T00:00:00Z\n"
     ]
    }
   ],
   "source": [
    "print('Head:\\n' + str(df[['scheduledday','appointmentday']].head()))\n",
    "print('Tail:\\n' + str(df[['scheduledday','appointmentday']].tail()))"
   ]
  },
  {
   "cell_type": "markdown",
   "metadata": {},
   "source": [
    "Those columns have some problems that need to be solved before converting them to date time:\n",
    "1. They have a 'T' between the date and the time\n",
    "2. They have a 'Z' on the final of each string.\n",
    "3. In the `scheduledday` variable there is information about when the appointment was scheduled. But, there isn't information about the time of the appointment, only the date.\n",
    "\n",
    "We have two options to solve this issues. \n",
    "\n",
    "- One way to solve this problem without losing data is to replace the 'T' by spaces. In the next step, is necessary to remove the 'Z' at the end of all strings.\n",
    "\n",
    "- The second way is to get only the first 10 letters of each row. With this approach, we won't be able to get the time of the variables because they will be removed.\n",
    "\n",
    "In order to get the same informations of the two variables, I'll use the second approach because we don't have information about the time in the `appointmentday` variable.\n",
    "\n",
    "\n",
    "    "
   ]
  },
  {
   "cell_type": "code",
   "execution_count": 190,
   "metadata": {},
   "outputs": [],
   "source": [
    "def to_datetime_cols(data, col):\n",
    "    \"\"\"This function was created to convert two variables of this specific\n",
    "    dataframe. The name of the cols are: 'appointmentday' and 'scheduledday'.\n",
    "    \n",
    "    data: must be a dataframe\n",
    "    col: must be 'appointmentday' or 'scheduledday'\n",
    "    \"\"\"\n",
    "    data[col] = data[col].str[:10] #Replacing the T for spaces and removing the Z\n",
    "    data[col] = pd.to_datetime(data[col], infer_datetime_format=True)#Converting the column to datetime\n",
    "    return data[col] #returning the desirable column converted\n",
    "\n",
    "df['scheduledday'] = to_datetime_cols(df, 'scheduledday')\n",
    "df['apppointmentday'] = to_datetime_cols(df, 'appointmentday')"
   ]
  },
  {
   "cell_type": "markdown",
   "metadata": {},
   "source": [
    "#### Problem 2: Creating the waiting_time variable"
   ]
  },
  {
   "cell_type": "markdown",
   "metadata": {},
   "source": [
    "Below, I will create a variable that displays the difference between the day that the appointment was meant to occur and the day that the appointment has been scheduled. This variable will be important to our analysis because it will make possible to identify if the waiting time influences is correlated with the patients attending the appointments.\n",
    "\n",
    "I would like to thank `jezrael` for this [answer](https://stackoverflow.com/questions/37840812/pandas-subtracting-two-date-columns-and-the-result-being-an-integer) at StackOverflow because it helped me figure out how to get an integer of a difference between datetimes."
   ]
  },
  {
   "cell_type": "code",
   "execution_count": 191,
   "metadata": {},
   "outputs": [
    {
     "data": {
      "text/html": [
       "<div>\n",
       "<style scoped>\n",
       "    .dataframe tbody tr th:only-of-type {\n",
       "        vertical-align: middle;\n",
       "    }\n",
       "\n",
       "    .dataframe tbody tr th {\n",
       "        vertical-align: top;\n",
       "    }\n",
       "\n",
       "    .dataframe thead th {\n",
       "        text-align: right;\n",
       "    }\n",
       "</style>\n",
       "<table border=\"1\" class=\"dataframe\">\n",
       "  <thead>\n",
       "    <tr style=\"text-align: right;\">\n",
       "      <th></th>\n",
       "      <th>appointmentday</th>\n",
       "      <th>scheduledday</th>\n",
       "      <th>waiting_time</th>\n",
       "    </tr>\n",
       "    <tr>\n",
       "      <th>PatientId</th>\n",
       "      <th></th>\n",
       "      <th></th>\n",
       "      <th></th>\n",
       "    </tr>\n",
       "  </thead>\n",
       "  <tbody>\n",
       "    <tr>\n",
       "      <th>2.987250e+13</th>\n",
       "      <td>2016-04-29</td>\n",
       "      <td>2016-04-29</td>\n",
       "      <td>0</td>\n",
       "    </tr>\n",
       "    <tr>\n",
       "      <th>5.589978e+14</th>\n",
       "      <td>2016-04-29</td>\n",
       "      <td>2016-04-29</td>\n",
       "      <td>0</td>\n",
       "    </tr>\n",
       "    <tr>\n",
       "      <th>4.262962e+12</th>\n",
       "      <td>2016-04-29</td>\n",
       "      <td>2016-04-29</td>\n",
       "      <td>0</td>\n",
       "    </tr>\n",
       "    <tr>\n",
       "      <th>8.679512e+11</th>\n",
       "      <td>2016-04-29</td>\n",
       "      <td>2016-04-29</td>\n",
       "      <td>0</td>\n",
       "    </tr>\n",
       "    <tr>\n",
       "      <th>8.841186e+12</th>\n",
       "      <td>2016-04-29</td>\n",
       "      <td>2016-04-29</td>\n",
       "      <td>0</td>\n",
       "    </tr>\n",
       "    <tr>\n",
       "      <th>9.598513e+13</th>\n",
       "      <td>2016-04-29</td>\n",
       "      <td>2016-04-27</td>\n",
       "      <td>2</td>\n",
       "    </tr>\n",
       "    <tr>\n",
       "      <th>7.336882e+14</th>\n",
       "      <td>2016-04-29</td>\n",
       "      <td>2016-04-27</td>\n",
       "      <td>2</td>\n",
       "    </tr>\n",
       "    <tr>\n",
       "      <th>3.449833e+12</th>\n",
       "      <td>2016-04-29</td>\n",
       "      <td>2016-04-27</td>\n",
       "      <td>2</td>\n",
       "    </tr>\n",
       "  </tbody>\n",
       "</table>\n",
       "</div>"
      ],
      "text/plain": [
       "             appointmentday scheduledday  waiting_time\n",
       "PatientId                                             \n",
       "2.987250e+13     2016-04-29   2016-04-29             0\n",
       "5.589978e+14     2016-04-29   2016-04-29             0\n",
       "4.262962e+12     2016-04-29   2016-04-29             0\n",
       "8.679512e+11     2016-04-29   2016-04-29             0\n",
       "8.841186e+12     2016-04-29   2016-04-29             0\n",
       "9.598513e+13     2016-04-29   2016-04-27             2\n",
       "7.336882e+14     2016-04-29   2016-04-27             2\n",
       "3.449833e+12     2016-04-29   2016-04-27             2"
      ]
     },
     "execution_count": 191,
     "metadata": {},
     "output_type": "execute_result"
    }
   ],
   "source": [
    "def waiting_time_days(data):\n",
    "    \"\"\" This function was created to get the difference between to dates\n",
    "    and convert it to an integer.\n",
    "    \n",
    "    data: this function is restricted to the data frame to this dataframe.\n",
    "    \n",
    "    \"\"\"\n",
    "    #getting the difference between the two variables. It will yields a datetime ojbect\n",
    "    data['waiting_time'] = (data['appointmentday'] - data['scheduledday'])\n",
    "    #after that, we use the following formula and it tranforms the day diffrence in a float format\n",
    "    #after getting this float, we convert it to a integer\n",
    "    data['waiting_time'] = (data['waiting_time'] / np.timedelta64(1, 'D')).astype('int64')\n",
    "    return data['waiting_time']\n",
    "\n",
    "df['waiting_time'] = waiting_time_days(df)\n",
    "   \n",
    "df[['appointmentday','scheduledday','waiting_time']].head(8)"
   ]
  },
  {
   "cell_type": "markdown",
   "metadata": {},
   "source": [
    "#### Problem 3: Changing the names of same variables"
   ]
  },
  {
   "cell_type": "markdown",
   "metadata": {},
   "source": [
    "##### Problem 3.1: `Scholarship` variable and renaming it."
   ]
  },
  {
   "cell_type": "code",
   "execution_count": 192,
   "metadata": {},
   "outputs": [],
   "source": [
    "df.rename(columns={'scholarship': 'gvt_allowance'}, inplace=True)"
   ]
  },
  {
   "cell_type": "markdown",
   "metadata": {},
   "source": [
    "##### Problem 3.2: Inverting the logic of the `no-show` variable and renaming it"
   ]
  },
  {
   "cell_type": "code",
   "execution_count": 193,
   "metadata": {},
   "outputs": [],
   "source": [
    "df['no-show'] = np.where(df['no-show'] == 'Yes', 'No', 'Yes')\n",
    "\n",
    "df.rename(columns={'no-show': 'attended_appointment'}, inplace=True)"
   ]
  },
  {
   "cell_type": "markdown",
   "metadata": {},
   "source": [
    "##### Problem 3.3: making column names more intuitive:"
   ]
  },
  {
   "cell_type": "code",
   "execution_count": 194,
   "metadata": {},
   "outputs": [],
   "source": [
    "df.rename(columns={'hipertension': 'has_hipertension', 'diabetes': \n",
    "                   'has_diabetes', 'alcoholism': 'is_alcoholic',\n",
    "                   'scheduledday': 'appointment_scheduled_in'}, inplace=True)"
   ]
  },
  {
   "cell_type": "markdown",
   "metadata": {},
   "source": [
    "#### Problem 4\n",
    "\n",
    "I couldn't find the meaning of the values of these column, so I'll not use it in the analysis."
   ]
  },
  {
   "cell_type": "markdown",
   "metadata": {},
   "source": [
    "<a id='eda'></a>\n",
    "## Exploratory Data Analysis"
   ]
  },
  {
   "cell_type": "markdown",
   "metadata": {},
   "source": [
    "<a id='date_versus_attended'></a>\n",
    "#### Is the number of patients who attended their appointments and those who don't attend their appointments steady in the data that we have?"
   ]
  },
  {
   "cell_type": "code",
   "execution_count": 197,
   "metadata": {},
   "outputs": [
    {
     "data": {
      "image/png": "[encoded data removed]",
      "text/plain": [
       "<Figure size 504x288 with 1 Axes>"
      ]
     },
     "metadata": {},
     "output_type": "display_data"
    }
   ],
   "source": [
    "def pivoting_data_lplot(data, column, index_col, func):\n",
    "    \"\"\"The objective of this function is to make more easy\n",
    "    the transformation of a groupby object into a dataframe\n",
    "    almost ready for creating a line plot.\n",
    "    \n",
    "    data: must be a dateframe\n",
    "    \n",
    "    column: the name of the variable that will be pivoted\n",
    "    \n",
    "    index_col: the name of the column that will be the index of the\n",
    "    final df.\n",
    "    \n",
    "    func = The aggregation function that will be passed in the\n",
    "    groupby function. For example, if your variable is numeric, it \n",
    "    can be the mean, median, etc. If your variable is categorical\n",
    "    use len.\n",
    "    \n",
    "    Limitations of this function:\n",
    "    It just works with aggregations with two columns.\n",
    "    \n",
    "    \"\"\"\n",
    "    data1 = data.groupby([column, index_col]).agg(func)['appointmentid']\n",
    "\n",
    "    data1 = data1.reset_index()\n",
    "\n",
    "    data1 = data1.pivot(index=index_col,\n",
    "            columns=column,\n",
    "            values='appointmentid')\n",
    "\n",
    "    return data1\n",
    "\n",
    "date_df = pivoting_data_lplot(df, 'attended_appointment','appointmentday', len)\n",
    "\n",
    "date_df.columns = ['not_attended','attended']\n",
    "    \n",
    "fig, ax = plt.subplots(nrows=1, ncols=1, figsize=(7,4))\n",
    "_ = sns.lineplot(data=date_df, ax=ax)\n",
    "_ = plt.tight_layout()\n",
    "_ = plt.title('Number of patients by day (Attended versus not attended)')\n",
    "_ = plt.xlabel('days')\n",
    "_ = plt.ylabel('number of patients')\n"
   ]
  },
  {
   "cell_type": "markdown",
   "metadata": {},
   "source": [
    "1. It seems that we don't have the data about the day 2016-05-05.\n",
    "2. In general, the number of people who don't attend their appointments is steady.\n",
    "3. The number of people who are attending, otherwise, seems to be oscilating more. However, plots can be misleading, I'll get the standard deviations of both variables to compare."
   ]
  },
  {
   "cell_type": "code",
   "execution_count": 198,
   "metadata": {},
   "outputs": [
    {
     "data": {
      "text/html": [
       "<div>\n",
       "<style scoped>\n",
       "    .dataframe tbody tr th:only-of-type {\n",
       "        vertical-align: middle;\n",
       "    }\n",
       "\n",
       "    .dataframe tbody tr th {\n",
       "        vertical-align: top;\n",
       "    }\n",
       "\n",
       "    .dataframe thead th {\n",
       "        text-align: right;\n",
       "    }\n",
       "</style>\n",
       "<table border=\"1\" class=\"dataframe\">\n",
       "  <thead>\n",
       "    <tr style=\"text-align: right;\">\n",
       "      <th></th>\n",
       "      <th>not_attended</th>\n",
       "      <th>attended</th>\n",
       "    </tr>\n",
       "  </thead>\n",
       "  <tbody>\n",
       "    <tr>\n",
       "      <th>count</th>\n",
       "      <td>27.000000</td>\n",
       "      <td>27.000000</td>\n",
       "    </tr>\n",
       "    <tr>\n",
       "      <th>mean</th>\n",
       "      <td>826.629630</td>\n",
       "      <td>3266.962963</td>\n",
       "    </tr>\n",
       "    <tr>\n",
       "      <th>std</th>\n",
       "      <td>185.763735</td>\n",
       "      <td>698.241058</td>\n",
       "    </tr>\n",
       "    <tr>\n",
       "      <th>min</th>\n",
       "      <td>9.000000</td>\n",
       "      <td>30.000000</td>\n",
       "    </tr>\n",
       "    <tr>\n",
       "      <th>25%</th>\n",
       "      <td>803.500000</td>\n",
       "      <td>3196.500000</td>\n",
       "    </tr>\n",
       "    <tr>\n",
       "      <th>50%</th>\n",
       "      <td>837.000000</td>\n",
       "      <td>3466.000000</td>\n",
       "    </tr>\n",
       "    <tr>\n",
       "      <th>75%</th>\n",
       "      <td>895.500000</td>\n",
       "      <td>3560.500000</td>\n",
       "    </tr>\n",
       "    <tr>\n",
       "      <th>max</th>\n",
       "      <td>1049.000000</td>\n",
       "      <td>3819.000000</td>\n",
       "    </tr>\n",
       "  </tbody>\n",
       "</table>\n",
       "</div>"
      ],
      "text/plain": [
       "       not_attended     attended\n",
       "count     27.000000    27.000000\n",
       "mean     826.629630  3266.962963\n",
       "std      185.763735   698.241058\n",
       "min        9.000000    30.000000\n",
       "25%      803.500000  3196.500000\n",
       "50%      837.000000  3466.000000\n",
       "75%      895.500000  3560.500000\n",
       "max     1049.000000  3819.000000"
      ]
     },
     "execution_count": 198,
     "metadata": {},
     "output_type": "execute_result"
    }
   ],
   "source": [
    "date_df.describe()"
   ]
  },
  {
   "cell_type": "markdown",
   "metadata": {},
   "source": [
    "Some considerations:\n",
    "1. The day with the maximum number of patients who attended the appointments had 3819 patients.\n",
    "2. The day with the maximum number of patients who didn't attend had 1049 patients who have missed their appointments.\n",
    "3. The interquantile of the both variables is equal to 92 and 364, respectively.\n",
    "4. As expected, the `attended` has an standard deviation higher than the `not_attended` variable.\n",
    "5. The mean number of appointments missed by patients per day is 826.\n",
    "6. In average, 3266 patients, attend their appointments per day."
   ]
  },
  {
   "cell_type": "markdown",
   "metadata": {},
   "source": [
    "<a id='neighborhood_vs_attended'></a>\n",
    "#### Is there a correlation between the number of patients who attend their appointments and those who don't?"
   ]
  },
  {
   "cell_type": "code",
   "execution_count": 199,
   "metadata": {},
   "outputs": [
    {
     "data": {
      "image/png": "[encoded data removed]",
      "text/plain": [
       "<Figure size 576x396 with 1 Axes>"
      ]
     },
     "metadata": {},
     "output_type": "display_data"
    },
    {
     "name": "stdout",
     "output_type": "stream",
     "text": [
      "Summary Statistics: \n",
      "       not attended     attended\n",
      "count     79.000000    79.000000\n",
      "mean     282.493671  1116.544304\n",
      "std      277.991324  1096.108382\n",
      "min        1.000000     7.000000\n",
      "25%       81.500000   328.500000\n",
      "50%      190.000000   710.000000\n",
      "75%      428.500000  1648.000000\n",
      "max     1465.000000  6252.000000\n",
      "\n",
      "The correlations is: (0.9766720133060586, 3.3421633729044563e-53)\n"
     ]
    }
   ],
   "source": [
    "#I'll use the same function that I created before. #But, now, insteady \n",
    "#of grouping by date, I'll group by The neighborhood of the hospitals\n",
    "\n",
    "neighborhood = pivoting_data_lplot(df, 'attended_appointment', \n",
    "                                   'neighbourhood', len)\n",
    "\n",
    "#renaming columns\n",
    "neighborhood.columns = ['not attended', 'attended']\n",
    "\n",
    "#creating scatterplot\n",
    "#I will set alpha to 0.5 because there are values that are overlapping.\n",
    "sns.scatterplot(x='attended', y='not attended', \n",
    "                data=neighborhood, legend='brief',\n",
    "               alpha=0.5)  \n",
    "plt.title('Number of patients by Neighborhood (Attended versus not attended)')\n",
    "plt.show()\n",
    "\n",
    "neighborhood = neighborhood.dropna()\n",
    "\n",
    "correlation = pearsonr(neighborhood['attended'], neighborhood['not attended'])\n",
    "\n",
    "print('Summary Statistics: \\n' + str(neighborhood.describe()) + '\\n')\n",
    "\n",
    "print('The correlations is: ' + str(correlation))"
   ]
  },
  {
   "cell_type": "markdown",
   "metadata": {},
   "source": [
    "According to the plot and to the pearsonr value, there is almost a perfect correlation between the number of patients who attended the appointments by neighborhood and those who don't.\n",
    "\n",
    "1. In average, each neighborhood had 282 patients missing their appointments in the period and 1116 patients who went to their appointments.\n",
    "2. We can't say that the distribution is right skewed because the median is lower than the mean.\n",
    "3. There is a neighborhood where 1465 patients losed their appointments in the period.\n"
   ]
  },
  {
   "cell_type": "markdown",
   "metadata": {},
   "source": [
    "<a id='waiting_time'></a>\n",
    "#### The waiting time influence in the probability of the patient attending the appointment?\n",
    "\n",
    "Is important to clarify that even if a correlation exists between the two variables, there may be other lurking variables like:\n",
    "\n",
    "- People who have forgotten about the appointment.\n",
    "- If it is the first appointment of the patient.\n",
    "- The patient lose its interest in the appointment due to the long waiting time."
   ]
  },
  {
   "cell_type": "markdown",
   "metadata": {},
   "source": [
    "#### Summary Statistics - Waiting Time"
   ]
  },
  {
   "cell_type": "code",
   "execution_count": 200,
   "metadata": {},
   "outputs": [
    {
     "name": "stdout",
     "output_type": "stream",
     "text": [
      "count    110527.000000\n",
      "mean         10.183702\n",
      "std          15.254996\n",
      "min          -6.000000\n",
      "25%           0.000000\n",
      "50%           4.000000\n",
      "75%          15.000000\n",
      "max         179.000000\n",
      "Name: waiting_time, dtype: float64\n",
      "\n",
      "Proportion of people who have attended the appointment: \n",
      "Yes    88208\n",
      "No     22319\n",
      "Name: attended_appointment, dtype: int64\n"
     ]
    }
   ],
   "source": [
    "print(str(df['waiting_time'].describe()) + '\\n')\n",
    "print('Proportion of people who have attended the appointment: \\n' + str(df['attended_appointment'].value_counts()) )"
   ]
  },
  {
   "cell_type": "markdown",
   "metadata": {},
   "source": [
    "For some reason, there are some rows where the waiting time is negative. This doesn't have practical sense, so I'll not use them while conducting the analysis about the waiting time.\n",
    "\n",
    "The median waiting time is 4 days and the mean is 10 days.\n",
    "\n",
    "The Interquartile range is 15 days."
   ]
  },
  {
   "cell_type": "markdown",
   "metadata": {},
   "source": [
    "#### Setting up a function to create histograms with multiple subsets"
   ]
  },
  {
   "cell_type": "code",
   "execution_count": 201,
   "metadata": {},
   "outputs": [
    {
     "data": {
      "image/png": "[encoded data removed]",
      "text/plain": [
       "<Figure size 576x396 with 1 Axes>"
      ]
     },
     "metadata": {},
     "output_type": "display_data"
    }
   ],
   "source": [
    "def getting_histograms(data, xlabel, ylabel, title, col, \n",
    "                       range_values, bins, density):\n",
    "    \"\"\"This function was created to make easy the creation of\n",
    "    histograms with two different groups differentiated by the\n",
    "    color.\n",
    "    \n",
    "    data: must be a dataframe with a column named `atttended_appointment`\n",
    "    xlabel: label of the x-axis\n",
    "    ylabel: label of the y-axis\n",
    "    title: title of the plot\n",
    "    col: the name of the column of interest. Must be a numeric variable.\n",
    "    range: the min and the max values of the column.\n",
    "    bins: must be a numeric value. The recommended value is 30.\n",
    "    density: Must be a boolean. If you want a density plot, you should put\n",
    "    'True' and if you want a plot with absolute values, is better to put\n",
    "    'False'.\n",
    "    \"\"\"\n",
    "    data1 = data[data['attended_appointment'] == 'Yes']\n",
    "    data2 = data[data['attended_appointment'] == 'No']\n",
    "    _ = plt.hist(data1[col], bins=bins, range=range_values, \n",
    "                 color='blue', alpha=0.6, density=density)\n",
    "    _ = plt.hist(data2[col], bins=bins, range=range_values, \n",
    "                 color='red', alpha=0.6)\n",
    "    _ = plt.xlabel(xlabel)\n",
    "    _ = plt.ylabel(ylabel)\n",
    "    _ = plt.title(title)\n",
    "    _ = plt.legend([\"Attended Appointment\", \"Didn't Attended\"])\n",
    "    \n",
    "    return _\n",
    "\n",
    "#Creating the arguments for the function.\n",
    "xlabel = 'waiting time (days)'\n",
    "ylabel = 'number of patients'\n",
    "title = 'Waiting Time Distribution'\n",
    "col = 'waiting_time'\n",
    "range_ = (-10, 180)\n",
    "bins = 15\n",
    "\n",
    "_ = getting_histograms(df, xlabel, ylabel, title, col, range_, 15, False)\n",
    "plt.show()\n"
   ]
  },
  {
   "cell_type": "markdown",
   "metadata": {},
   "source": [
    "Some considerations about the histogram above:\n",
    "\n",
    "1. Most of the patients (more than 60.000 in a sample of 110.000) had a waiting time inferior to 15 days.\n",
    "2. The proportion of patients not attending the appointments seems to grow when the waiting time increases.\n",
    "\n",
    "The next step of our analysis is to create two subsets of the data. The first subset will be the values that are lower than the median. The second will be the  values that are higher than the median. But, before doing that, I will create a dataframe without the observations in the `waiting_time` variable inferior to zero."
   ]
  },
  {
   "cell_type": "code",
   "execution_count": 202,
   "metadata": {},
   "outputs": [],
   "source": [
    "#filtering for values >= zero.\n",
    "waiting_df = df[df['waiting_time'] >= 0]\n",
    "\n",
    "#callculating the median waiting time\n",
    "median = waiting_df['waiting_time'].median()\n",
    "\n",
    "#waiting time - Lower than the median\n",
    "low_waiting_time = waiting_df[waiting_df['waiting_time'] < median]\n",
    "\n",
    "#waiting time - Higher than the median\n",
    "high_waiting_time = waiting_df[waiting_df['waiting_time'] >= median]"
   ]
  },
  {
   "cell_type": "markdown",
   "metadata": {},
   "source": [
    "#### Summary Statistics - Low Waiting Time and High Waiting Time"
   ]
  },
  {
   "cell_type": "code",
   "execution_count": 203,
   "metadata": {},
   "outputs": [
    {
     "name": "stdout",
     "output_type": "stream",
     "text": [
      "Low waiting time\n",
      "Proportion who have attended the appointmens \n",
      "Yes    0.903246\n",
      "No     0.096754\n",
      "Name: attended_appointment, dtype: float64\n",
      "\n",
      "High waiting Time\n",
      "Proportion who have attended the appointments\n",
      "Yes    0.700388\n",
      "No     0.299612\n",
      "Name: attended_appointment, dtype: float64\n",
      "\n"
     ]
    }
   ],
   "source": [
    "print('Low waiting time\\nProportion who have attended the appointmens ')\n",
    "print(str(low_waiting_time['attended_appointment'].value_counts() / len(low_waiting_time)) + '\\n')\n",
    "print('High waiting Time\\nProportion who have attended the appointments')\n",
    "print(str(high_waiting_time['attended_appointment'].value_counts() / len(high_waiting_time)) + '\\n')"
   ]
  },
  {
   "cell_type": "markdown",
   "metadata": {},
   "source": [
    "Seems like `attended_appointment` variable is dependent of the variable `waiting_time`, since the proportion of observations who have shown up for the appointment decreased by 20% when you compare the sample with a waiting time lower than the median with the other group.\n",
    "\n",
    "However, before concluding that this correlation is real, is necessary to conduct an hypotheses test.\n",
    "\n",
    "#### Hypotheses Test - Comparing two sample proportions:\n",
    "\n",
    "h0 (Null Hypotheses): the difference between the two proportions are equal  \n",
    "h1 (Alternative Hypotheses): the difference between the two proportions are different\n",
    "\n",
    "To conduct this kind of hypotheses test, there are some conditions that must be met. The conditions were found in this [site](http://www.b-g.k12.ky.us/userfiles/1525/Classes/33386/Conditions%20of%20Tests.08-09%20rev%201.pdf) on the page 5.\n",
    "\n",
    "##### The conditions are:\n",
    "\n",
    "- The samples must be independent of each other: This condition is met since the decision of showing up for the appointment or not of a patient doesn't affect the decision of the other patients\n",
    "- To either conduct a hypotheses testing or to calculate the confidence interval, there must be at least 5 successes for each of the possibilities. Our sample size is very big, so this condition is also met.\n",
    "\n",
    "##### Steps to conduct this hypotheses test:\n",
    "\n",
    "1. Calculate the sample proportions of each samples.\n",
    "    - Success: When a patient attended the appointment\n",
    "    - Failure: When a patient didn't attended the appointment\n",
    "2. Calculating the difference between the two proportions:\n",
    "    - $ \\hat{p_1} - \\hat{p_2} $\n",
    "2. Calculating the Standand Error (SE) of two samples \n",
    "    - $ \\sqrt{\\frac{\\hat{p_1} * (1-\\hat{p_1})}{n_1} + \\frac{\\hat{p_2} * (1-\\hat{p_2})}{n_2}}$\n",
    "2. Calculating the Critical Score\n",
    "    - $ \\frac{(\\hat{p_1}\\space -\\space \\hat{p_2}) \\space-\\space h0}{SE}  $\n",
    "4. Calculating the p-value:\n",
    "    - We use the critical score to identificate the p value on the z-table, however for practical reasons, I'll use the value on a function called `norm.sf` from the `scipy.stats` package to get the p-value.\n",
    "    \n",
    "##### Confidence Intervals:\n",
    "To calculate the confidence interval, there are some common steps with the hypotheses test. We need to calculate the standard error and the difference between the two proportions. However there are some differences.\n",
    "1. Calculate the difference between the two proportions\n",
    "2. Calculate the Standard Error\n",
    "3. Calculating the upper and lower bounds of the confidence interval:\n",
    "     - $ \\hat{p_1} - \\hat{p_2} \\pm{\\text{z*} * \\text{SE}} $\n",
    "4. It's important to point out that z* is not the critical score that we get when its being calculated the p value, but a value of the z-table dependent of the confidence interval that was chose. In this analysis, I'll use an 95% confidence interval, hence, the z* will be 1.96.\n",
    "\n",
    "Below, I'll setup a function to carry out to calculate the p-value and the confidence interval."
   ]
  },
  {
   "cell_type": "code",
   "execution_count": 204,
   "metadata": {},
   "outputs": [
    {
     "name": "stdout",
     "output_type": "stream",
     "text": [
      "The p-value of this hypotheses test is: 0.0\n",
      "95% CI:(0.2, 0.21)\n"
     ]
    }
   ],
   "source": [
    "def hypotheses_test_and_CI(data1, data2, col):\n",
    "    \"\"\"\n",
    "    This function was created to conduct an hypotheses test\n",
    "    between two different proportions. To execute this function,\n",
    "    firstly, it is necessary to get the two subsets of the data\n",
    "    that you want to compare. This function is suited for comparing\n",
    "    only two proportions, generally, your 'col' argument must have only\n",
    "    two categories.\n",
    "    \n",
    "    data1: the first subset of a dataframe\n",
    "    \n",
    "    data2: the second subset of a dataframe\n",
    "    \n",
    "    col: must me the variable that you want to compare the \n",
    "    proportions between the two groups. In the first case, \n",
    "    for example, the col variable will be `attended appointment`.\n",
    "    \n",
    "    Lastly, is important to say that this function is suitable\n",
    "    for two-way hypotheses testing because it multiplies the p-value\n",
    "    by two at the end of the function.\n",
    "    \"\"\"\n",
    "    #total sample size of the first group\n",
    "    n1 = sum(data1[col].value_counts())\n",
    "\n",
    "    #total sample size of the second group\n",
    "    n2 = sum(data2[col].value_counts())\n",
    "\n",
    "    # proportion of persons who have attended the appointment in the group \n",
    "    # with waiting time lower than the median\n",
    "    p_hat1 = data1[col].value_counts()[0] / n1\n",
    "\n",
    "    #proportion of persons who have attended the appointment in the\n",
    "    #group with waiting time higher than the median\n",
    "    p_hat2 = data2[col].value_counts()[0] / n2\n",
    "\n",
    "    #standard Error of two proportions test\n",
    "    SE_proportion = math.sqrt((p_hat1*(1-p_hat1))/n1 + (p_hat2*(1-p_hat2))/n2) \n",
    "\n",
    "    null_hypotheses = 0\n",
    "    critical_score = ((p_hat1 - p_hat2) - null_hypotheses) / SE_proportion\n",
    "    \n",
    "    #Calculation of the p-value\n",
    "    p_value = norm.sf(abs(critical_score)) * 2\n",
    "    \n",
    "    #Confidence Interval Calculation\n",
    "    lower_bound = round((p_hat1 - p_hat2) - (1.96 * SE_proportion), 2)\n",
    "    higher_bound = round((p_hat1 - p_hat2) + (1.96 * SE_proportion), 2)\n",
    "    \n",
    "    return p_value, lower_bound, higher_bound\n",
    "\n",
    "\n",
    "p_value, lower_bound, upper_bound = hypotheses_test_and_CI(low_waiting_time, \n",
    "                                                           high_waiting_time,\n",
    "                                                          'attended_appointment')\n",
    "#Calculating the p_value\n",
    "#As this a two-sided hipotheses test, I'll multiply the result by 2.\n",
    "\n",
    "print('The p-value of this hypotheses test is: ' + str(p_value))\n",
    "print('95% CI:('+ str(lower_bound) + ', ' + str(upper_bound) +')')"
   ]
  },
  {
   "cell_type": "markdown",
   "metadata": {},
   "source": [
    "##### Results of the hypotheses test:\n",
    "\n",
    "The most common $\\alpha$ used for hypotheses testing is 0.05, sometimes is good to use different significant levels, like when is more costly to commit a type one error or a type two errors. However, in this case, I believe that adopting a significance level of 0.05 is the better option.\n",
    "\n",
    "According to the function `norm.sf` the p-value for our hypotheses is 0. Hence, we can reject the null hypotheses that the difference between the proportions is zero and accept the alternative hypotheses that there is a difference between the two proportions.\n",
    "\n",
    "##### Interpretation of the confidence interval:\n",
    "\n",
    "According to the confidence interval calculated, is possible to say that we are 95% confidence that difference between the two population proportions lies between 20% and 21%."
   ]
  },
  {
   "cell_type": "markdown",
   "metadata": {},
   "source": [
    "<a id='age'></a>\n",
    "#### The age of the patient influence in the probability of the patient attending the appointment?"
   ]
  },
  {
   "cell_type": "markdown",
   "metadata": {},
   "source": [
    "#### Summary Statistics"
   ]
  },
  {
   "cell_type": "code",
   "execution_count": 205,
   "metadata": {},
   "outputs": [
    {
     "data": {
      "text/plain": [
       "count    110527.000000\n",
       "mean         37.088874\n",
       "std          23.110205\n",
       "min          -1.000000\n",
       "25%          18.000000\n",
       "50%          37.000000\n",
       "75%          55.000000\n",
       "max         115.000000\n",
       "Name: age, dtype: float64"
      ]
     },
     "execution_count": 205,
     "metadata": {},
     "output_type": "execute_result"
    }
   ],
   "source": [
    "df['age'].describe()"
   ]
  },
  {
   "cell_type": "markdown",
   "metadata": {},
   "source": [
    "Firstly, I thought that those negative ages were NA values, however, after searching in the discussion forums of the Kaggle Dataset, the owner of the dataset stated that negative ages are related to pregnant women who have attended appointments before the babies were born.\n",
    "\n",
    "The max age is 115 years, probably a typo error when the data was being stored in a database. However, we can't be sure about that, since there are some cases in the history of people living for 115 years.\n",
    "\n",
    "Let's take a look on the distribution of the age of the patients."
   ]
  },
  {
   "cell_type": "code",
   "execution_count": 206,
   "metadata": {},
   "outputs": [
    {
     "data": {
      "image/png": "[encoded data removed]",
      "text/plain": [
       "<Figure size 576x396 with 1 Axes>"
      ]
     },
     "metadata": {},
     "output_type": "display_data"
    }
   ],
   "source": [
    "#Setting up the arguments for the function that was constructed earlier.\n",
    "label1 = 'age'\n",
    "label2 = 'number of patients'\n",
    "title = 'Age Distribution'\n",
    "legend = ['Attended Appointment',\"Didn't attended\"]\n",
    "col = 'age'\n",
    "range_ = (-5, 120)\n",
    "\n",
    "_ = getting_histograms(df, label1, label2, title, col, range_, 30, density=False)"
   ]
  },
  {
   "cell_type": "markdown",
   "metadata": {},
   "source": [
    "Looking at this histogram, it seems that the proportion of people who haven't attended the appointments decreases when the age increases. But, I can't say this for sure, since this histogram is using absolute values.\n",
    "\n",
    "I will create another variable, that divides the observations on our sample in three groups:\n",
    "1. Child: 0-17 years\n",
    "2. Adult: 18-59 years\n",
    "3. Elder: 60+"
   ]
  },
  {
   "cell_type": "code",
   "execution_count": 207,
   "metadata": {},
   "outputs": [],
   "source": [
    "#Using Np.where to create a new variable based in some conditions\n",
    "df['group_age'] = np.where(df['age'] >= 60, '60+',\n",
    "                  np.where(df['age'] >= 18, '18-59', '0-17'))"
   ]
  },
  {
   "cell_type": "code",
   "execution_count": 208,
   "metadata": {},
   "outputs": [
    {
     "data": {
      "text/plain": [
       "18-59    61974\n",
       "0-17     27380\n",
       "60+      21173\n",
       "Name: group_age, dtype: int64"
      ]
     },
     "execution_count": 208,
     "metadata": {},
     "output_type": "execute_result"
    }
   ],
   "source": [
    "df['group_age'].value_counts()"
   ]
  },
  {
   "cell_type": "code",
   "execution_count": 209,
   "metadata": {},
   "outputs": [
    {
     "name": "stdout",
     "output_type": "stream",
     "text": [
      "Attended Appointment (0-17):\n",
      "Yes    0.780972\n",
      "No     0.219028\n",
      "Name: attended_appointment, dtype: float64\n",
      "\n",
      "Attended Appointment (18-59):\n",
      "Yes    0.788944\n",
      "No     0.211056\n",
      "Name: attended_appointment, dtype: float64\n",
      "\n",
      "Attended Appointment (60+):\n",
      "Yes    0.84688\n",
      "No     0.15312\n",
      "Name: attended_appointment, dtype: float64\n"
     ]
    }
   ],
   "source": [
    "#subsetting to get the proportion of each group\n",
    "young = df[df['group_age'] == '0-17']\n",
    "adults = df[df['group_age'] == '18-59']\n",
    "elders = df[df['group_age'] == '60+']\n",
    "\n",
    "#Getting an overview of the proportions by group.\n",
    "young_prop = young['attended_appointment'].value_counts() / len(young)\n",
    "adults_prop = adults['attended_appointment'].value_counts() / len(adults)\n",
    "elders_prop = elders['attended_appointment'].value_counts() / len(elders)\n",
    "\n",
    "print('Attended Appointment (0-17):')\n",
    "print(str(young_prop))\n",
    "\n",
    "print('\\nAttended Appointment (18-59):')\n",
    "print(str(adults_prop))\n",
    "\n",
    "print('\\nAttended Appointment (60+):')\n",
    "print(str(elders_prop))"
   ]
  },
  {
   "cell_type": "markdown",
   "metadata": {},
   "source": [
    "It seems that the proportion of people who attended the appointments that were scheduled increased when the group in observation have more than 60 years.\n",
    "\n",
    "However, before making conclusions about that, a hypotheses test is needed.\n",
    "\n",
    "In this case, it is necessary comparing two categorical variables, the `group_age` and `attended_appointment`. \n",
    "\n",
    "To conduct a hypotheses test between two categorical variables, I'll use an Chi-Squared Test of Independence.\n",
    "\n",
    "##### Our hypotheses are:\n",
    "- h0: The variables are independent\n",
    "- h1: The variablers are dependent\n",
    "\n",
    "##### Conditions necessary for this test:\n",
    "\n",
    "According to this [site](http://www.b-g.k12.ky.us/userfiles/1525/Classes/33386/Conditions%20of%20Tests.08-09%20rev%201.pdf) the conditions for this kind of hypotheses test are:\n",
    "- Must be a random sample\n",
    "- All groups must have at least five observations\n",
    "\n",
    "##### Steps to conduct this hypotheses testing:\n",
    "1. Calculate the proportions expected if the different groups were equally distributed.\n",
    "2. Calculate the observed variables in each group\n",
    "3. Calculating the $\\chi^2$:\n",
    "    - $\\chi^2 = \\sum{\\frac{(\\text{Observed Values}\\space - \\space \\text{Expected Values})^2}{\\text{Expected Values}}} $\n",
    "4. Calculating the degrees of freedom:\n",
    "    - For a $\\chi^2$ test of independence, we calculate the degrees of freedom by subtracting 1 of the number of groups in each variable and multiplying them. In the first variable, we have two categories: 'Yes' or 'No'. In the second variable, we have three categories: '0-17', '18-60' and '60+'. The formula for calculating the degrees of freedom in our case is:\n",
    "    \n",
    "    $$\n",
    "    \\text{ddof = }(2-1)*(3-1)\n",
    "    $$\n",
    "5. The last step is to calculate the p-value. I'll do this using a function of the package `scipy.stats` called `chisquare`"
   ]
  },
  {
   "cell_type": "code",
   "execution_count": 210,
   "metadata": {},
   "outputs": [
    {
     "name": "stdout",
     "output_type": "stream",
     "text": [
      "Power_divergenceResult(statistic=394.7132824575409, pvalue=3.092265724952847e-85)\n"
     ]
    }
   ],
   "source": [
    "def chisquared_six_groups(data, x, y, label_g1, label_g2, label_g3):\n",
    "    \"\"\"This function was created to conduct a Chi-Squared Test of\n",
    "    Independence between six different combinations of categories.\n",
    "    The x value must have 3 categories and the y value must have\n",
    "    two different categories.\n",
    "    \n",
    "    data: should be a Pandas.DataFrame\n",
    "    y: should be the dependent variable (categorical)\n",
    "    x: should be the independent variable (categorical)\n",
    "    label_g1 = the label of the first category of x\n",
    "    label_g2 = the label of the second category of x\n",
    "    label_g3 = the label of the third category of x\n",
    "    \n",
    "    The function will calculate the observed and the expected values\n",
    "    for each of the categories and assign the values for two numpy\n",
    "    arrays. Those arrays will be passed in the chisquare() function\n",
    "    of the scipy.stats package.\n",
    "    \"\"\"\n",
    "    #total number of observations\n",
    "    n = len(data[y])\n",
    "    \n",
    "    #expected proportion for attended and didn't attended\n",
    "    expected_attd_p = data[y].value_counts()[0] / n\n",
    "    expected_not_attd_p = data[y].value_counts()[1] / n\n",
    "    \n",
    "    #getting the counts for each group\n",
    "    group_1 = sum(data[x] == label_g1)\n",
    "    group_2 = sum(data[x] == label_g2)\n",
    "    group_3 = sum(data[x] == label_g3)\n",
    "    \n",
    "    #getting the expected values\n",
    "    expected_g1_attd = group_1 * expected_attd_p\n",
    "    expected_g2_attd = group_2 * expected_attd_p\n",
    "    expected_g3_attd = group_3 * expected_attd_p\n",
    "    expected_g1_not_attd = group_1 * expected_not_attd_p\n",
    "    expected_g2_not_attd = group_2 * expected_not_attd_p\n",
    "    expected_g3_not_attd = group_3 * expected_not_attd_p\n",
    "    \n",
    "    #subsetting the data\n",
    "    g1_subset = data[data[x] == label_g1]\n",
    "    g2_subset = data[data[x] == label_g2]\n",
    "    g3_subset = data[data[x] == label_g3]\n",
    "    \n",
    "    #getting the observed values\n",
    "    obs_g1_attd = g1_subset[y].value_counts()[0]\n",
    "    obs_g2_attd = g2_subset[y].value_counts()[0]\n",
    "    obs_g3_attd = g3_subset[y].value_counts()[0]\n",
    "    obs_g1_not_attd = g1_subset[y].value_counts()[1]\n",
    "    obs_g2_not_attd = g2_subset[y].value_counts()[1]\n",
    "    obs_g3_not_attd = g3_subset[y].value_counts()[1]\n",
    "    \n",
    "    #The list below will be used as an argument in chisquare() function\n",
    "    observed = [obs_g1_attd, obs_g2_attd, obs_g3_attd,\n",
    "                obs_g1_not_attd, obs_g2_not_attd, obs_g3_not_attd]\n",
    "    \n",
    "    #The list below will be used as an argument in chisquare() function\n",
    "    expected = [expected_g1_attd, expected_g2_attd, \n",
    "                expected_g3_attd, expected_g1_not_attd, \n",
    "                expected_g2_not_attd, expected_g3_not_attd]    \n",
    "    \n",
    "    chisquare_object = chisquare(f_obs=observed, f_exp=expected, ddof=2)\n",
    "    \n",
    "    return chisquare_object\n",
    "\n",
    "chisquare_object = chisquared_six_groups(df, 'group_age', \n",
    "                                         'attended_appointment',\n",
    "                                         '0-17', '18-59', '60+')\n",
    "\n",
    "print(chisquare_object)"
   ]
  },
  {
   "cell_type": "markdown",
   "metadata": {},
   "source": [
    "##### Results of this hypotheses test:\n",
    "\n",
    "$\\alpha = 0.05$  \n",
    "$\\text{p-value}\\approx 0$  \n",
    "\n",
    "The p-value is lower than the $\\alpha$. So, our null hypotheses that there is no association between the two variables is rejected and we can accept the alternative hypotheses that there is an association between the `group_age` variable and the `attended_appointment` variable. "
   ]
  },
  {
   "cell_type": "markdown",
   "metadata": {},
   "source": [
    "<a id='sms_received'></a>\n",
    "#### Receiving a reminder is helpful for the hospitals to decrease the number of patient that don't show-up?\n"
   ]
  },
  {
   "cell_type": "markdown",
   "metadata": {},
   "source": [
    "In this case, we are dealing with two categorical variables. A way to get an overview is to create a bar plot with the proportions of each category.\n",
    "\n",
    "In order to do that, I'll use the pandas groupby function and after some manipulations of the data, I'll use the pandas.plot() function"
   ]
  },
  {
   "cell_type": "code",
   "execution_count": 211,
   "metadata": {},
   "outputs": [
    {
     "data": {
      "image/png": "[encoded data removed]",
      "text/plain": [
       "<Figure size 360x360 with 1 Axes>"
      ]
     },
     "metadata": {},
     "output_type": "display_data"
    }
   ],
   "source": [
    "def getting_proportions(data, x, y):\n",
    "    \"\"\"\n",
    "    This function was created to get the proportions of two groups\n",
    "    in a dataframe in order to plot them later. Some manipulations\n",
    "    will be needed, but I preferred to not automate everything in\n",
    "    the function because setting the labels can be confusing without\n",
    "    seing the proportions.\n",
    "    \n",
    "    data: must be a dataframe\n",
    "    x: must be the independent variable\n",
    "    y: must be the dependent variable\n",
    "    \n",
    "    Example: In the first case, x will be 'sms_received' and y will be\n",
    "    'attended_appointment'\n",
    "    \n",
    "    The function will return a pandas.DataFrame with multiindex.\n",
    "    \n",
    "    Obs: the function will not work properly if the x or y is\n",
    "    waiting_time. I have used this variable just to get the counts\n",
    "    using a groupby function with x and y.\n",
    "    \"\"\"\n",
    "    \n",
    "    #getting the counts - note that here I have used a random column just\n",
    "    #to obtain the counts divided by group.\n",
    "    counts = data.groupby([x, y]).count()['waiting_time']\n",
    "\n",
    "    #getting the totals\n",
    "    totals = data.groupby([x]).count()['waiting_time']\n",
    "\n",
    "    counts = counts / totals #getting the proportions\n",
    "\n",
    "    counts = counts.reset_index() #reseting the index\n",
    "    \n",
    "    return counts\n",
    "\n",
    "counts = getting_proportions(df, 'sms_received','attended_appointment')\n",
    "    \n",
    "labels = [\"sms wasn't sent - didn't attended\",\n",
    "          \"sms wasn't sent - attended\",\n",
    "          \"sms was sent - didn't attended\",\n",
    "          \"sms was sent - attended\"]\n",
    "\n",
    "#creating a new column with the plot labels\n",
    "counts['label'] = labels\n",
    "counts = counts[['label','waiting_time']] #selecting columns\n",
    "\n",
    "counts.columns = ['label', 'proportions'] #renaming the columns\n",
    "\n",
    "    #transforming the 'label column' in a index for the dataframe\n",
    "counts.set_index('label', inplace=True)\n",
    "    \n",
    "title = 'Proportion - Attended Appointment (SMS-Received)'\n",
    "#creating the plot\n",
    "_ = counts.plot(kind='barh', width=0.35, figsize=(5,5), legend=False,\n",
    "               title=title, edgecolor='black', color='#c8a2c8')\n",
    "_ = plt.xlim(xmax=1)\n",
    "_ = plt.ylabel('groups')\n",
    "_ = plt.xlabel('proportion')\n",
    "\n",
    "plt.show()"
   ]
  },
  {
   "cell_type": "markdown",
   "metadata": {},
   "source": [
    "Those proportions are very strange because it seems that the SMS has a negative effect on the decision of the patients to attend the appointment. But, there may be some other factor behind this results. \n",
    "\n",
    "I have checked the forums at kaggle to see if there is some mistake with my results. However, other people have found the same problem as you can see here: [Kaggle Discussion](https://www.kaggle.com/joniarroba/noshowappointments/discussion/49775) and `maayanroman` who had already conducted an analysis in this dataset, suggested that most of the hospitals only sent reminders for people who had to wait a lot between the appointment was scheduled and the appointment day.\n",
    "\n",
    "I'll test these hypotheses here too, in order to see if the waiting time is influencing the patients receiving or not a reminder of the appointment.\n",
    "\n",
    "In order to do that, I'll use the dataframes that I have created earlier: `low_waiting_time` and `high_waiting_time`"
   ]
  },
  {
   "cell_type": "code",
   "execution_count": 212,
   "metadata": {},
   "outputs": [
    {
     "name": "stdout",
     "output_type": "stream",
     "text": [
      "Low Waiting Time: \n",
      "No     52332\n",
      "Yes      906\n",
      "Name: sms_received, dtype: int64\n",
      "\n",
      "High Waiting Time: \n",
      "Yes    34576\n",
      "No     22708\n",
      "Name: sms_received, dtype: int64\n"
     ]
    }
   ],
   "source": [
    "#Getting the absolute values of each group\n",
    "high_time_sms = str(high_waiting_time['sms_received'].value_counts())\n",
    "low_time_sms = str(low_waiting_time['sms_received'].value_counts())\n",
    "\n",
    "print('Low Waiting Time: \\n' + low_time_sms + '\\n')\n",
    "print('High Waiting Time: \\n' + high_time_sms)"
   ]
  },
  {
   "cell_type": "markdown",
   "metadata": {},
   "source": [
    "This is interesting, it seems that some hospitals may have some kind of rule for their employees to not send SMS for the people with a low waiting time.\n",
    "\n",
    "Since there is a correlation between the waiting time and the patient attending the appointment, it seems that `sms_receiving` variable is being influenced by the waiting time variable. Let's test this using the function that has been created earlier.\n",
    "\n",
    "##### Hypotheses Test:\n",
    "- h0: $\\hat{p_1} - \\hat{p_2} = 0$\n",
    "- h1: $\\hat{p_1} - \\hat{p_2} \\neq 0 $\n"
   ]
  },
  {
   "cell_type": "code",
   "execution_count": 213,
   "metadata": {},
   "outputs": [
    {
     "name": "stdout",
     "output_type": "stream",
     "text": [
      "The confidence interval of the difference is: (0.38, 0.38)\n",
      "P-Value: 0.0\n"
     ]
    }
   ],
   "source": [
    "p_value, lower_bound, upper_bound = hypotheses_test_and_CI(low_waiting_time, \n",
    "                                                           high_waiting_time,\n",
    "                                                           'sms_received')\n",
    "\n",
    "CI = '(' + str(lower_bound) + ', ' + str(upper_bound) + ')'\n",
    "\n",
    "print('The confidence interval of the difference is: ' + CI)\n",
    "print('P-Value: ' + str(p_value))"
   ]
  },
  {
   "cell_type": "markdown",
   "metadata": {},
   "source": [
    "##### Interpretation of the results:\n",
    "$\\alpha = 0.05$  \n",
    "$\\text{p-value} = 0.0$\n",
    "\n",
    "With this results, we can reject the null-hypotheses that the difference between the two proportions is equal to zero and accept the alternative hypotheses that the difference between the two proportions is different than zero.\n",
    "\n",
    "Hence, the `sms_received` variable is dependent on the `waiting_time` variable. And this is influencing the results of the comparison between `sms_received` and `attended_appointment`\n",
    "\n",
    "But, what if we use just the dataset with a higher waiting time, is there a difference in the propotions of the people who have shown-up for their appointments and those who don't?\n",
    "\n",
    "I'll test this too."
   ]
  },
  {
   "cell_type": "code",
   "execution_count": 214,
   "metadata": {},
   "outputs": [
    {
     "data": {
      "text/plain": [
       "Text(0.5,1,'attendance ratio by sms received (high waiting time)')"
      ]
     },
     "execution_count": 214,
     "metadata": {},
     "output_type": "execute_result"
    },
    {
     "data": {
      "image/png": "[encoded data removed]",
      "text/plain": [
       "<Figure size 360x360 with 1 Axes>"
      ]
     },
     "metadata": {},
     "output_type": "display_data"
    }
   ],
   "source": [
    "#getting the proportions\n",
    "high_waiting_time2 = getting_proportions(high_waiting_time, \n",
    "                                         'sms_received', \n",
    "                                         'attended_appointment')\n",
    "\n",
    "columns = ['received_sms','attended_appointment']\n",
    "values = 'waiting_time'\n",
    "\n",
    "high_waiting_time2['labels'] = ['not received sms, not attended',\n",
    "                                'not received sms, attended',\n",
    "                                'received sms, not attended',\n",
    "                                'received sms, attended']\n",
    "high_waiting_time2 = high_waiting_time2[['labels','waiting_time']]\n",
    "high_waiting_time2.columns = ['groups', 'proportion']\n",
    "\n",
    "high_waiting_time2.set_index('groups', inplace=True)\n",
    "\n",
    "high_waiting_time2.plot(kind='barh', figsize=(5,5), legend=False,\n",
    "                       edgecolor='black', color='#c8a2c8')\n",
    "plt.xlim(xmax=1)\n",
    "plt.xlabel('proportion')\n",
    "plt.title('attendance ratio by sms received (high waiting time)')"
   ]
  },
  {
   "cell_type": "markdown",
   "metadata": {},
   "source": [
    "It seems that, maybe, sending a sms for the patients helps to increase the attendance rate among the patients with a high waiting time. But, before making conclusions, let's test this hypotheses.\n",
    "\n",
    "Firstly, I will create two subsets, one for the patients who have received the sms and one for those who don't."
   ]
  },
  {
   "cell_type": "code",
   "execution_count": 215,
   "metadata": {},
   "outputs": [],
   "source": [
    "#Creating the subset\n",
    "sms_rcvd = high_waiting_time[high_waiting_time['sms_received'] == 'Yes']\n",
    "sms_not_rcvd = high_waiting_time[high_waiting_time['sms_received'] == 'No']"
   ]
  },
  {
   "cell_type": "markdown",
   "metadata": {},
   "source": [
    "#### Hypotheses Test:\n",
    "$\\text{h0: }\\space \\hat{p_1} - \\hat{p_2} = 0$  \n",
    "$\\text{h1: }\\space \\hat{p_2} - \\hat{p_2} \\neq 0$"
   ]
  },
  {
   "cell_type": "code",
   "execution_count": 216,
   "metadata": {},
   "outputs": [
    {
     "name": "stdout",
     "output_type": "stream",
     "text": [
      "The p-value is: 9.053456424800627e-46\n",
      "The difference between the proportions is: (0.05, 0.06)\n"
     ]
    }
   ],
   "source": [
    "p_value, lower_bound, upper_bound = hypotheses_test_and_CI(sms_rcvd,\n",
    "                                                           sms_not_rcvd,\n",
    "                                                           'attended_appointment')\n",
    "CI = '(' + str(lower_bound) + ', ' + str(upper_bound) + ')'\n",
    "print('The p-value is: ' + str(p_value))\n",
    "print('The difference between the proportions is: ' + CI)"
   ]
  },
  {
   "cell_type": "markdown",
   "metadata": {},
   "source": [
    "##### Interpreting Results:\n",
    "$\\alpha = 0.05$  \n",
    "$ \\text{p-value} \\approx 0 $\n",
    "\n",
    "According to this inference test, we can reject our null hypotheses that the difference between the two proportions are equal and accept our alternative hypotheses that the differences are different.\n",
    "\n",
    "We are 95% confident that the difference between the two population parameters is between 5% and 6%. So, receiving an sms is correlated with a higher attendance rate among the patients that have a high waiting time."
   ]
  },
  {
   "cell_type": "markdown",
   "metadata": {},
   "source": [
    "<a id='bolsa_familia'></a>\n",
    "#### Is there a significant difference in the proportions of patients who show-up for the appointments when you compare the people that receive 'Bolsa Família' and those who don't?"
   ]
  },
  {
   "cell_type": "markdown",
   "metadata": {},
   "source": [
    "Bolsa Família is a program for distribution of income for poor families. In this program, the families receive a monthly amount of money to use it in the way that best suits the family needs. The value received depends on the number of people on the family and all children must be enrolled in a school to get this opportunity. The value received is low and, even though the amount of money received because of the program impact the lives of those families, they still don't have enough money to have a good quality of living.\n",
    "\n",
    "Now, I'll use the function that I've created earlier to get the proportions related to the variables `gvt_allowance` and `attended_appointment`"
   ]
  },
  {
   "cell_type": "code",
   "execution_count": 217,
   "metadata": {},
   "outputs": [
    {
     "data": {
      "text/plain": [
       "Text(0.5,0,'proportion')"
      ]
     },
     "execution_count": 217,
     "metadata": {},
     "output_type": "execute_result"
    },
    {
     "data": {
      "image/png": "[encoded data removed]",
      "text/plain": [
       "<Figure size 360x360 with 1 Axes>"
      ]
     },
     "metadata": {},
     "output_type": "display_data"
    }
   ],
   "source": [
    "counts = getting_proportions(df, 'gvt_allowance', 'attended_appointment')\n",
    "\n",
    "counts['label'] = [\"doesn't received allowance and didn't attended\",\n",
    "                  \"doesn't received allowance and attended\",\n",
    "                  \"received allowance and didn't attended\",\n",
    "                  \"received allowance and attended\"]\n",
    "\n",
    "counts = counts[['label','waiting_time']]\n",
    "counts.columns = ['groups','proportion']\n",
    "counts.set_index('groups', inplace=True)\n",
    "\n",
    "#Creating tthe plot\n",
    "title='Government Allowance versus Attended Appointment (proportion)'\n",
    "counts.plot(kind='barh', title=title, figsize=(5,5), legend=False,\n",
    "           edgecolor='black', color='#c8a2c8')\n",
    "plt.xlim(xmax=1)\n",
    "plt.xlabel('proportion')"
   ]
  },
  {
   "cell_type": "markdown",
   "metadata": {},
   "source": [
    "The proportion of people who receive Bolsa Familia and attended the appointments is lower than the proportion of those people who don't receive the allowance and attended the appointments. However, before taking any conclusions, let's conduct an Hypotheses Test between those two groups.\n",
    "\n",
    "#### Hypotheses Test:\n",
    "$\\text{h0: }\\space \\hat{p_1} - \\hat{p_2} = 0$  \n",
    "$\\text{h1: }\\space \\hat{p_2} - \\hat{p_2} \\neq 0$\n"
   ]
  },
  {
   "cell_type": "code",
   "execution_count": 218,
   "metadata": {},
   "outputs": [
    {
     "name": "stdout",
     "output_type": "stream",
     "text": [
      "The confidence interval of the difference is: (-0.05, -0.03)\n",
      "P-Value: 3.760217656522029e-20\n"
     ]
    }
   ],
   "source": [
    "#Subsetting\n",
    "rcv_bf = df[df['gvt_allowance'] == 'Yes']\n",
    "not_rcv_bf = df[df['gvt_allowance'] == 'No']\n",
    "\n",
    "#Making the inference\n",
    "p_value, lower_bound, upper_bound = hypotheses_test_and_CI(rcv_bf, \n",
    "                                                           not_rcv_bf,\n",
    "                                                           'attended_appointment')\n",
    "\n",
    "CI = '(' + str(lower_bound) + ', ' + str(upper_bound) + ')'\n",
    "\n",
    "print('The confidence interval of the difference is: ' + CI)\n",
    "print('P-Value: ' + str(p_value))\n"
   ]
  },
  {
   "cell_type": "markdown",
   "metadata": {},
   "source": [
    "##### Interpretation of the results:\n",
    "$\\alpha = 0.05$  \n",
    "$\\text{p-value} \\approx 0.0$\n",
    "\n",
    "With this results, we can reject the null hypotheses that the difference between the two proportions is zero and accept the alternative hypotheses.\n",
    "\n",
    "We are 95% confident that the difference between the people who receive bolsa familia and attend the hospital's appointments and those who don't receive the allowance is between -5% and -3%.\n",
    "\n",
    "Here, It's important to point out that the Bolsa Familia isn't the cause of the no-shows, but other hidden factors. If those families don't receive this help from the government, the number of patients who have missed their appointments could be even worse. As I said, those families are really poor and there are a lot of things that may influence them to not showing up for the appointments."
   ]
  },
  {
   "cell_type": "markdown",
   "metadata": {},
   "source": [
    "<a id='conclusions'></a>\n",
    "## Conclusions\n",
    "\n",
    "#### Limitations of the data:\n",
    "1. Most of the variables in this dataset are categorical variables, so I have decided to work more with print statements, instead of creating a bar plot to compare 2 proportions.\n",
    "2. There are some variables that could have been important in the analysis like:\n",
    "    - Family Income;\n",
    "    - Address;\n",
    "    - If the appointment was the first of this patient;\n",
    "    - Only 27 days were covered by the dataset. So, sazonalities may be a risk for the conclusions;\n",
    "    - If the hospital is public or private (I'm from Brazil and, in my opinion, is very difficult to get a medical appointment scheduled in the same week.\n",
    "    - Doctor's specialization\n",
    "    - Name of the hospital\n",
    "\n",
    "#### Correlations found in the dataset:\n",
    "- The `waiting_time` variable is strongly correlated with the `attended_appointment` variable.\n",
    "- The `age` is also correlated because of the people that are older than 50 years.\n",
    "- Between `gvt_allowance` and `attended_appointment`\n",
    "- Between `waiting_time` and `sms_received`\n",
    "- Among the patients that have a waiting time above the median, there is a positive correlation between receiving an sms and attending the appointment.\n",
    "\n",
    "#### Final considerations\n",
    "\n",
    "The percent of people who miss their appointments on the hospitals of Vitória is shocking and a lot of variables influence on it. The next logical step would be to create a classification model in order to predict which patients will miss the appointments.\n",
    "\n",
    "A model with high precision would be very good for the hospitals, since they could evaluate which patients are more likely to miss the appointments and create actions to decrease the rate of missing appointments of the hospitals. This could save a lot of resources for the public and private hospitals. However, getting all information needed to be able to create a good model, in the health sector, is not easy, since there is a plenty of issues related to the ethical issues about the privacy of patient's data.\n",
    "\n",
    "Besides that, the data is from 2016, but even in 2016, a high number of people in Brazil wasn't using sms anymore. I know that getting the whatsapp number of the patients may be a complicated thing, but I think that the hospital could thinkg in a more effective way of reminding the patients.\n",
    "\n",
    "\n",
    "\n"
   ]
  },
  {
   "cell_type": "markdown",
   "metadata": {},
   "source": [
    "<a id='resources_used'></a>\n",
    "#### Resources Used:\n",
    "\n",
    "Latex:\n",
    "- [Inequality sign](https://en.wikipedia.org/wiki/Equals_sign)\n",
    "- [Text in functions](http://www.b-g.k12.ky.us/userfiles/1525/Classes/33386/Conditions%20of%20Tests.08-09%20rev%201.pdf)\n",
    "- [Math Symbols](http://web.ift.uib.no/Teori/KURS/WRK/TeX/OLDsymALL.html)\n",
    "- [Confidence Interval for two population proportions](https://www.kean.edu/~fosborne/bstat/06d2pop.html)\n",
    "- [Latex-Overall Symbols](http://www.stevesque.com/symbols/)\n",
    "\n",
    "Inference Statistics:\n",
    "- [sf function](https://stackoverflow.com/questions/3496656/convert-z-score-z-value-standard-score-to-p-value-for-normal-distribution-in)\n",
    "- [chi-squared test of independence](https://onlinecourses.science.psu.edu/stat500/node/56/)\n",
    "- [hypotheses test1](http://statisticsbyjim.com/hypothesis-testing/comparing-hypothesis-tests-data-types/)\n",
    "- [independent samples](https://www.nipissingu.ca/departments/student-development-and-services/academic-skills/resources/Documents/Independent-Samples-vs-Dependent-Samples.pdf)\n",
    "- [hypotheses testing and CI](http://www.b-g.k12.ky.us/userfiles/1525/Classes/33386/Conditions%20of%20Tests.08-09%20rev%201.pdf)\n",
    "- [p-value](http://www.b-g.k12.ky.us/userfiles/1525/Classes/33386/Conditions%20of%20Tests.08-09%20rev%201.pdf)\n",
    "- [Chisquare Function](https://docs.scipy.org/doc/scipy/reference/generated/scipy.stats.chisquare.html)\n",
    "- [Pearsonr - Correlation](https://docs.scipy.org/doc/scipy-0.16.0/reference/generated/scipy.stats.pearsonr.html)\n",
    "\n",
    "Seaborn:\n",
    "- [Scatterplot](https://seaborn.pydata.org/generated/seaborn.scatterplot.html)\n",
    "- [Lineplot](https://seaborn.pydata.org/generated/seaborn.lineplot.html)\n",
    "\n",
    "Numpy:\n",
    "- [np.Where function](https://medium.com/@emayoung95/using-numpy-where-function-to-replace-for-loops-with-if-else-statements-a1e6044ac4c1)\n",
    "\n",
    "Pandas:\n",
    "- [pd.value_counts function](https://pandas.pydata.org/pandas-docs/version/0.23/generated/pandas.Series.value_counts.html)\n",
    "- [Operations between dates](https://jakevdp.github.io/PythonDataScienceHandbook/03.11-working-with-time-series.html)\n",
    "- [Operations between dates 2](https://stackoverflow.com/questions/37840812/pandas-subtracting-two-date-columns-and-the-result-being-an-integer)\n",
    "\n",
    "Kaggle - Informations about the dataset:\n",
    "- [Data Dictionary](https://www.kaggle.com/joniarroba/noshowappointments/home)\n",
    "- [Pregnant Women](https://www.kaggle.com/joniarroba/noshowappointments/discussion/41457#latest-276504)\n",
    "- [Waiting Time versus SMS Received](https://www.kaggle.com/joniarroba/noshowappointments/discussion/49775)\n",
    "\n",
    "Colors:  \n",
    "[Hex Colors](https://www.color-hex.com/)\n",
    "\n",
    "\n"
   ]
  }
 ],
 "metadata": {
  "kernelspec": {
   "display_name": "Python 3",
   "language": "python",
   "name": "python3"
  },
  "language_info": {
   "codemirror_mode": {
    "name": "ipython",
    "version": 3
   },
   "file_extension": ".py",
   "mimetype": "text/x-python",
   "name": "python",
   "nbconvert_exporter": "python",
   "pygments_lexer": "ipython3",
   "version": "3.6.7"
  }
 },
 "nbformat": 4,
 "nbformat_minor": 2
}
